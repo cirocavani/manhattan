{
 "cells": [
  {
   "cell_type": "code",
   "execution_count": 1,
   "metadata": {
    "collapsed": false
   },
   "outputs": [
    {
     "data": {
      "text/plain": [
       "testmincostdata_cyclecanceling (generic function with 1 method)"
      ]
     },
     "execution_count": 1,
     "metadata": {},
     "output_type": "execute_result"
    }
   ],
   "source": [
    "cd(\"..\")\n",
    "include(\"test/graph.jl\")"
   ]
  },
  {
   "cell_type": "code",
   "execution_count": 2,
   "metadata": {
    "collapsed": false
   },
   "outputs": [
    {
     "name": "stdout",
     "output_type": "stream",
     "text": [
      "Testing mincost cycle-canceling, netg graphs\n",
      "Processing data/stndrd10.net... PASS (cost=148675665)\n",
      "  7.274124 seconds (88.62 M allocations: 1.377 GB, 1.20% gc time)\n",
      "Processing data/stndrd6.net... PASS (cost=191968577)\n",
      "  3.770818 seconds (45.58 M allocations: 745.839 MB, 1.41% gc time)\n",
      "Processing data/stndrd7.net... PASS (cost=172742047)\n",
      "  7.418872 seconds (91.48 M allocations: 1.433 GB, 1.33% gc time)\n",
      "Processing data/stndrd8.net... PASS (cost=164468452)\n",
      "  5.498247 seconds (69.13 M allocations: 1.081 GB, 1.39% gc time)\n",
      "Processing data/stndrd9.net... PASS (cost=144994180)\n",
      "  5.962267 seconds (75.13 M allocations: 1.170 GB, 1.39% gc time)\n",
      "Processing data/transp6.net... PASS (cost=124416104)\n",
      "179.834365 seconds (2.65 G allocations: 40.288 GB, 1.41% gc time)\n",
      "Processing data/transp7.net... PASS (cost=96121936)\n",
      "234.923374 seconds (3.47 G allocations: 52.518 GB, 1.40% gc time)\n",
      "Processing data/transp8.net... PASS (cost=92366438)\n",
      "333.413614 seconds (4.91 G allocations: 74.108 GB, 1.45% gc time)\n",
      "Processing data/transp9.net... PASS (cost=158058350)\n",
      " 20.456563 seconds (264.13 M allocations: 4.069 GB, 1.50% gc time)\n"
     ]
    }
   ],
   "source": [
    "testmincostdata_cyclecanceling()"
   ]
  }
 ],
 "metadata": {
  "kernelspec": {
   "display_name": "Julia 0.4.0",
   "language": "julia",
   "name": "julia-0.4"
  },
  "language_info": {
   "file_extension": ".jl",
   "mimetype": "application/julia",
   "name": "julia",
   "version": "0.4.0"
  }
 },
 "nbformat": 4,
 "nbformat_minor": 0
}
