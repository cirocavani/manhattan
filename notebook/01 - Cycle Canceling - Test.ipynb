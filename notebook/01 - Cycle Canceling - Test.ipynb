{
 "cells": [
  {
   "cell_type": "code",
   "execution_count": 3,
   "metadata": {
    "collapsed": false
   },
   "outputs": [
    {
     "data": {
      "text/plain": [
       "testmincostdata_cyclecanceling (generic function with 1 method)"
      ]
     },
     "execution_count": 3,
     "metadata": {},
     "output_type": "execute_result"
    }
   ],
   "source": [
    "cd(\"..\")\n",
    "include(\"test/graph.jl\")"
   ]
  },
  {
   "cell_type": "code",
   "execution_count": 5,
   "metadata": {
    "collapsed": false
   },
   "outputs": [
    {
     "name": "stdout",
     "output_type": "stream",
     "text": [
      "Testing mincost cycle-canceling, netg graphs\n",
      "Processing data/stndrd10.net... PASS (cost=148675665)\n",
      "elapsed time: 7.5263241 seconds (1442041316 bytes allocated, 12.62% gc time)\n",
      "Processing data/stndrd6.net... PASS (cost=191968577)\n",
      "elapsed time: 3.795222943 seconds (750700880 bytes allocated, 12.42% gc time)\n",
      "Processing data/stndrd7.net... PASS (cost=172742047)\n",
      "elapsed time: 7.556647168 seconds (1491488768 bytes allocated, 12.88% gc time)\n",
      "Processing data/stndrd8.net... PASS (cost=164468452)\n",
      "elapsed time: 5.832515275 seconds (1129092632 bytes allocated, 12.25% gc time)\n",
      "Processing data/stndrd9.net... PASS (cost=144994180)\n",
      "elapsed time: 6.180069036 seconds (1226875080 bytes allocated, 12.63% gc time)\n",
      "Processing data/transp6.net... PASS (cost=124416104)\n",
      "elapsed time: 235.226395803 seconds (42740951752 bytes allocated, 13.76% gc time)\n",
      "Processing data/transp7.net... PASS (cost=96121936)\n",
      "elapsed time: 317.850111682 seconds (55860347120 bytes allocated, 13.95% gc time)\n",
      "Processing data/transp8.net... PASS (cost=92366438)\n",
      "elapsed time: 451.774914146 seconds (78964262184 bytes allocated, 14.69% gc time)\n",
      "Processing data/transp9.net... PASS (cost=158058350)\n",
      "elapsed time: 23.419971927 seconds (4278575328 bytes allocated, 12.47% gc time)\n"
     ]
    }
   ],
   "source": [
    "testmincostdata_cyclecanceling()"
   ]
  }
 ],
 "metadata": {
  "kernelspec": {
   "display_name": "Julia 0.3.5",
   "language": "julia",
   "name": "julia 0.3"
  },
  "language_info": {
   "name": "julia",
   "version": "0.3.7"
  }
 },
 "nbformat": 4,
 "nbformat_minor": 0
}
