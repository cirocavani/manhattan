{
 "cells": [
  {
   "cell_type": "code",
   "execution_count": 1,
   "metadata": {
    "collapsed": false
   },
   "outputs": [
    {
     "data": {
      "text/plain": [
       "Edge"
      ]
     },
     "execution_count": 1,
     "metadata": {},
     "output_type": "execute_result"
    }
   ],
   "source": [
    "import Base.size\n",
    "\n",
    "type Vertex\n",
    "    id::Int\n",
    "    edgesIn::Array\n",
    "    edgesOut::Array\n",
    "    flow::Int\n",
    "end\n",
    "\n",
    "degree(v::Vertex) = length(v.edgesIn) + length(v.edgesOut)\n",
    "outdegree(v::Vertex) = length(v.edgesOut)\n",
    "indegree(v::Vertex) = length(v.edgesIn)\n",
    "flow(v::Vertex) = begin\n",
    "    m = v.flow\n",
    "    if !isempty(v.edgesIn)\n",
    "        m += sum([e.flow for e in v.edgesIn])\n",
    "    end\n",
    "    if !isempty(v.edgesOut)\n",
    "        m -= sum([e.flow for e in v.edgesOut])\n",
    "    end\n",
    "    m\n",
    "end\n",
    "\n",
    "Base.show(io::IO, v::Vertex) = print(io,\"$(v.id)\")\n",
    "\n",
    "type Edge\n",
    "    tail::Vertex\n",
    "    head::Vertex\n",
    "    cap::Int\n",
    "    low::Int\n",
    "    cost::Int\n",
    "    flow::Int\n",
    "end\n",
    "\n",
    "Base.show(io::IO, e::Edge) = print(io,\"($(e.tail))-[$(e.flow),$(e.cap),$(e.cost)]->($(e.head))\")\n",
    "\n",
    "type Graph\n",
    "    vertices::Array{Vertex,1}\n",
    "    edges::Array{Edge,1}\n",
    "end\n",
    "\n",
    "order(g::Graph) = length(g.vertices)\n",
    "size(g::Graph) = length(g.edges)\n",
    "\n",
    "Base.show(io::IO, g::Graph) = begin\n",
    "    println(io, \"G(V,E) = [$(order(g)),$(size(g))]\")\n",
    "    for i = 1:size(g)\n",
    "        if size(g) <= 50 || i <= 10 || i > (size(g)-10)\n",
    "            e = g.edges[i]\n",
    "            println(io, \"$i: $e\")\n",
    "        end\n",
    "        if size(g) > 50 && i == 11\n",
    "            println(io, \"... $(size(g) - 20) ...\")\n",
    "        end\n",
    "    end\n",
    "end\n",
    "\n",
    "Vertex(id::Int; flow=0) = Vertex(id, Edge[], Edge[], flow)\n",
    "Edge(t::Vertex, h::Vertex; cap=0,low=0,cost=0,flow=0) = begin\n",
    "    e = Edge(t,h,cap,low,cost,flow)\n",
    "    push!(t.edgesOut, e)\n",
    "    push!(h.edgesIn, e)\n",
    "    e\n",
    "end"
   ]
  },
  {
   "cell_type": "code",
   "execution_count": 2,
   "metadata": {
    "collapsed": false
   },
   "outputs": [
    {
     "data": {
      "text/plain": [
       "g4 (generic function with 1 method)"
      ]
     },
     "execution_count": 2,
     "metadata": {},
     "output_type": "execute_result"
    }
   ],
   "source": [
    "function g4()\n",
    "    s = Vertex(1, flow=30)\n",
    "    u = Vertex(2)\n",
    "    v = Vertex(3)\n",
    "    t = Vertex(4, flow=-30)\n",
    "    vrts = Vertex[s, u, v, t]\n",
    "    \n",
    "    e1 = Edge(s, u, cap=20)\n",
    "    e2 = Edge(s, v, cap=10)\n",
    "    e3 = Edge(u, t, cap=10)\n",
    "    e4 = Edge(v, t, cap=20)\n",
    "    e5 = Edge(u, v, cap=30)\n",
    "    edgs = Edge[e1, e2, e3, e4, e5]\n",
    "    \n",
    "    Graph(vrts, edgs)\n",
    "end"
   ]
  },
  {
   "cell_type": "code",
   "execution_count": 3,
   "metadata": {
    "collapsed": false
   },
   "outputs": [
    {
     "data": {
      "text/plain": [
       "G(V,E) = [4,5]\n",
       "1: (1)-[0,20,0]->(2)\n",
       "2: (1)-[0,10,0]->(3)\n",
       "3: (2)-[0,10,0]->(4)\n",
       "4: (3)-[0,20,0]->(4)\n",
       "5: (2)-[0,30,0]->(3)\n"
      ]
     },
     "execution_count": 3,
     "metadata": {},
     "output_type": "execute_result"
    }
   ],
   "source": [
    "g = g4()"
   ]
  },
  {
   "cell_type": "code",
   "execution_count": 4,
   "metadata": {
    "collapsed": false
   },
   "outputs": [
    {
     "data": {
      "text/plain": [
       "4-element Array{Vertex,1}:\n",
       " 1\n",
       " 2\n",
       " 3\n",
       " 4"
      ]
     },
     "execution_count": 4,
     "metadata": {},
     "output_type": "execute_result"
    }
   ],
   "source": [
    "g.vertices"
   ]
  },
  {
   "cell_type": "code",
   "execution_count": 5,
   "metadata": {
    "collapsed": false
   },
   "outputs": [
    {
     "name": "stdout",
     "output_type": "stream",
     "text": [
      "1: degree 2, in 0, out 2\n"
     ]
    }
   ],
   "source": [
    "for v in g.vertices\n",
    "    println(\"$(v.id): degree $(degree(v)), in $(indegree(v)), out $(outdegree(v))\")\n",
    "end"
   ]
  },
  {
   "cell_type": "code",
   "execution_count": 6,
   "metadata": {
    "collapsed": false
   },
   "outputs": [
    {
     "data": {
      "text/plain": [
       "5-element Array{Edge,1}:\n",
       " (1)-[0,20,0]->(2)\n",
       " (1)-[0,10,0]->(3)\n",
       " (2)-[0,10,0]->(4)\n",
       " (3)-[0,20,0]->(4)\n",
       " (2)-[0,30,0]->(3)"
      ]
     },
     "execution_count": 6,
     "metadata": {},
     "output_type": "execute_result"
    }
   ],
   "source": [
    "g.edges"
   ]
  },
  {
   "cell_type": "code",
   "execution_count": 7,
   "metadata": {
    "collapsed": false
   },
   "outputs": [
    {
     "name": "stdout",
     "output_type": "stream",
     "text": [
      "2: degree 3, in 1, out 2\n",
      "3: degree 3, in 2, out 1\n",
      "4: degree 2, in 2, out 0\n"
     ]
    },
    {
     "data": {
      "text/plain": [
       "netg (generic function with 1 method)"
      ]
     },
     "execution_count": 7,
     "metadata": {},
     "output_type": "execute_result"
    }
   ],
   "source": [
    "function netg(file::AbstractString)\n",
    "    open(file) do f\n",
    "        vertices = nothing\n",
    "        edges = nothing\n",
    "        k = 0\n",
    "        \n",
    "        xint(n::Int, line::AbstractString, k::AbstractString, v::AbstractString) = try\n",
    "            parse(Int, v)\n",
    "        catch e\n",
    "            error(\"$n, $line - $k: $(e.msg)\")\n",
    "        end\n",
    "    \n",
    "        for (n, line) in enumerate(eachline(f))\n",
    "            xint(k::AbstractString, v::AbstractString) = xint(n, line, k, v)\n",
    "            xerror(m::AbstractString) = error(\"$n, $line - $m\")\n",
    "            \n",
    "            if startswith(line, 'c')\n",
    "                continue\n",
    "            elseif startswith(line, 'p')\n",
    "                m = split(line, ' ')\n",
    "                length(m) == 4 || xerror(\"Problem line (4): $(length(m))\") \n",
    "                order = xint(\"Number of vertices\", m[3])\n",
    "                size = xint(\"Number of edges\", m[4])\n",
    "                \n",
    "                vertices = Array(Vertex, order)\n",
    "                for i = 1:order\n",
    "                    vertices[i] = Vertex(i)\n",
    "                end\n",
    "                edges = Array(Edge, size)\n",
    "            elseif startswith(line, 'n')\n",
    "                m = split(line, ' ')\n",
    "                length(m) == 3 || xerror(\"Vertex line (3): $(length(m))\")\n",
    "                id = xint(\"Vertex id\", m[2])\n",
    "                flow = xint(\"Vertex flow\", m[3])\n",
    "                \n",
    "                vertices[id].flow = flow\n",
    "            elseif startswith(line, 'a')\n",
    "                k < length(edges) || xerror(\"Edge extra: $(length(edges))\")\n",
    "                m = split(line, ' ')\n",
    "                length(m) == 6 || xerror(\"Edge line (6): $(length(m))\")\n",
    "                tail_idx = xint(\"Edge tail\", m[2])\n",
    "                head_idx = xint(\"Edge head\", m[3])\n",
    "                low = xint(\"Edge lower bound\", m[4])\n",
    "                cap = xint(\"Edge capacity\", m[5])\n",
    "                cost = xint(\"Edge cost\", m[6])\n",
    "                \n",
    "                tail = vertices[tail_idx]\n",
    "                head = vertices[head_idx]\n",
    "                edges[k+=1] = Edge(tail, head, cap=cap, low=low, cost=cost)\n",
    "            else\n",
    "                xerror(\"Unknown line\")\n",
    "            end\n",
    "        end\n",
    "        k == length(edges) || error(\"Missing edges: $k of $(length(edges)) ($(length(edges) - k))\")\n",
    "        \n",
    "        Graph(vertices, edges)\n",
    "    end\n",
    "end"
   ]
  },
  {
   "cell_type": "code",
   "execution_count": 8,
   "metadata": {
    "collapsed": false
   },
   "outputs": [
    {
     "data": {
      "text/plain": [
       "G(V,E) = [50000,500000]\n",
       "1: (1)-[0,1163,26]->(34671)\n",
       "2: (1)-[0,41753,377]->(35165)\n",
       "3: (1)-[0,12534,456]->(25991)\n",
       "4: (1)-[0,12078,292]->(7613)\n",
       "5: (1)-[0,42459,758]->(41134)\n",
       "6: (1)-[0,40063,351]->(17673)\n",
       "7: (1)-[0,18964,705]->(2942)\n",
       "8: (712)-[0,1163,651]->(14463)\n",
       "9: (712)-[0,29636,25]->(47696)\n",
       "10: (712)-[0,38698,971]->(29864)\n",
       "... 499980 ...\n",
       "499991: (48234)-[0,41967,179]->(4151)\n",
       "499992: (48579)-[0,795,540]->(49981)\n",
       "499993: (48579)-[0,795,106]->(22932)\n",
       "499994: (48579)-[0,49604,553]->(45285)\n",
       "499995: (49478)-[0,795,28]->(14335)\n",
       "499996: (49478)-[0,14567,108]->(18969)\n",
       "499997: (49478)-[0,32703,176]->(39022)\n",
       "499998: (49478)-[0,27171,601]->(7800)\n",
       "499999: (49478)-[0,1586,902]->(26459)\n",
       "500000: (49478)-[0,27081,228]->(22158)\n"
      ]
     },
     "execution_count": 8,
     "metadata": {},
     "output_type": "execute_result"
    }
   ],
   "source": [
    "netg(\"../data/big8.net\")"
   ]
  },
  {
   "cell_type": "code",
   "execution_count": 9,
   "metadata": {
    "collapsed": false
   },
   "outputs": [
    {
     "data": {
      "text/plain": [
       "st (generic function with 1 method)"
      ]
     },
     "execution_count": 9,
     "metadata": {},
     "output_type": "execute_result"
    }
   ],
   "source": [
    "function st(g::Graph)\n",
    "    s = nothing\n",
    "    t = nothing\n",
    "    n = 0\n",
    "    for v in g.vertices\n",
    "        if v.flow > 0\n",
    "            s = v\n",
    "            n += 1\n",
    "        elseif v.flow < 0\n",
    "            t = v\n",
    "            n += 1\n",
    "        end\n",
    "    end\n",
    "    isa(s, Vertex) || error(\"Source not found\")\n",
    "    isa(t, Vertex) || error(\"Target not found\")\n",
    "    n == 2 || error(\"Not ST\")\n",
    "    indegree(s) == 0 || error(\"Souce invalid\")\n",
    "    outdegree(t) == 0 || error(\"Target invalid\")\n",
    "    s, t\n",
    "end"
   ]
  },
  {
   "cell_type": "code",
   "execution_count": 10,
   "metadata": {
    "collapsed": false
   },
   "outputs": [
    {
     "data": {
      "text/plain": [
       "residualpath (generic function with 1 method)"
      ]
     },
     "execution_count": 10,
     "metadata": {},
     "output_type": "execute_result"
    }
   ],
   "source": [
    "using DataStructures\n",
    "\n",
    "type PathNode\n",
    "    parent::PathNode\n",
    "    length::Int\n",
    "    reverse::Bool\n",
    "    edge::Edge\n",
    "    \n",
    "    PathNode(e::Edge,r=false) = (p = new(); (p.length, p.reverse, p.edge) = (0, r, e); p)\n",
    "    PathNode(p::PathNode, r::Bool, e::Edge) = new(p, p.length + 1, r, e)\n",
    "end\n",
    "\n",
    "head(p::PathNode) = p.reverse ? p.edge.tail : p.edge.head\n",
    "tail(p::PathNode) = p.reverse ? p.edge.head : p.edge.tail\n",
    "flow(p::PathNode) = p.reverse ? (p.edge.cap - p.edge.flow) : p.edge.flow\n",
    "free(p::PathNode) = p.reverse ? p.edge.flow : (p.edge.cap - p.edge.flow)\n",
    "cap(p::PathNode) = p.edge.cap\n",
    "cost(p::PathNode) = p.reverse ? -p.edge.cost : p.edge.cost\n",
    "\n",
    "Base.show(io::IO, p::PathNode) = print(io,\"($(tail(p)))-[$(flow(p)),$(cap(p)),$(cost(p))]->($(head(p))), reverse=$(p.reverse)\")\n",
    "\n",
    "path(leaf::PathNode) = begin\n",
    "    p = Array(PathNode, leaf.length)\n",
    "    i = leaf\n",
    "    while isdefined(i, :parent)\n",
    "        p[i.length] = PathNode(i.edge, i.reverse) # inverse root distance\n",
    "        i = i.parent\n",
    "    end\n",
    "    p\n",
    "end\n",
    "\n",
    "function availableflow(p::Array{PathNode,1})\n",
    "    minimum([free(i) for i in p])\n",
    "end\n",
    "\n",
    "function residualpath(g::Graph, s::Vertex, t::Vertex)\n",
    "    flow(s) > 0 || return nothing\n",
    "    nodes = Queue(PathNode)\n",
    "    mark = falses(order(g))\n",
    "    \n",
    "    enqueue!(nodes, PathNode(Edge(Vertex(0),s,0,0,0,0)))\n",
    "    mark[s.id] = true\n",
    "    \n",
    "    while length(nodes) > 0\n",
    "        n = dequeue!(nodes)\n",
    "        v = head(n)\n",
    "        for e in v.edgesOut\n",
    "            if e.flow == e.cap || mark[e.head.id]\n",
    "                continue\n",
    "            end\n",
    "            next = PathNode(n,false,e)\n",
    "            if is(e.head, t)\n",
    "                return path(next)\n",
    "            end\n",
    "            enqueue!(nodes, next)\n",
    "            mark[e.head.id] = true\n",
    "        end\n",
    "        for e in v.edgesIn\n",
    "            if e.flow == 0 || mark[e.tail.id]\n",
    "                continue\n",
    "            end\n",
    "            next = PathNode(n,true,e)\n",
    "            if is(e.tail, t)\n",
    "                return path(next)\n",
    "            end\n",
    "            enqueue!(nodes, next)\n",
    "            mark[e.tail.id] = true\n",
    "        end\n",
    "    end\n",
    "    nothing\n",
    "end"
   ]
  },
  {
   "cell_type": "code",
   "execution_count": 11,
   "metadata": {
    "collapsed": false
   },
   "outputs": [
    {
     "data": {
      "text/plain": [
       "2-element Array{PathNode,1}:\n",
       " (1)-[0,20,0]->(2), reverse=false\n",
       " (2)-[0,10,0]->(4), reverse=false"
      ]
     },
     "execution_count": 11,
     "metadata": {},
     "output_type": "execute_result"
    }
   ],
   "source": [
    "s, t = st(g)\n",
    "p = residualpath(g, s, t)"
   ]
  },
  {
   "cell_type": "code",
   "execution_count": 12,
   "metadata": {
    "collapsed": false
   },
   "outputs": [
    {
     "data": {
      "text/plain": [
       "residualflow (generic function with 1 method)"
      ]
     },
     "execution_count": 12,
     "metadata": {},
     "output_type": "execute_result"
    }
   ],
   "source": [
    "function residualflow(p::Array{PathNode,1})\n",
    "    v = tail(p[1])\n",
    "    min(flow(v), availableflow(p))\n",
    "end"
   ]
  },
  {
   "cell_type": "code",
   "execution_count": 13,
   "metadata": {
    "collapsed": false
   },
   "outputs": [
    {
     "data": {
      "text/plain": [
       "10"
      ]
     },
     "execution_count": 13,
     "metadata": {},
     "output_type": "execute_result"
    }
   ],
   "source": [
    "delta = residualflow(p)"
   ]
  },
  {
   "cell_type": "code",
   "execution_count": 14,
   "metadata": {
    "collapsed": false
   },
   "outputs": [
    {
     "data": {
      "text/plain": [
       "updateflow! (generic function with 1 method)"
      ]
     },
     "execution_count": 14,
     "metadata": {},
     "output_type": "execute_result"
    }
   ],
   "source": [
    "function updateflow!(path::Array{PathNode,1}, delta::Int)\n",
    "    for p in path\n",
    "        p.edge.flow += p.reverse ? -delta : delta\n",
    "    end\n",
    "    nothing\n",
    "end"
   ]
  },
  {
   "cell_type": "code",
   "execution_count": 15,
   "metadata": {
    "collapsed": false
   },
   "outputs": [
    {
     "data": {
      "text/plain": [
       "G(V,E) = [4,5]\n",
       "1: (1)-[10,20,0]->(2)\n",
       "2: (1)-[0,10,0]->(3)\n",
       "3: (2)-[10,10,0]->(4)\n",
       "4: (3)-[0,20,0]->(4)\n",
       "5: (2)-[0,30,0]->(3)\n"
      ]
     },
     "execution_count": 15,
     "metadata": {},
     "output_type": "execute_result"
    }
   ],
   "source": [
    "updateflow!(p, delta)\n",
    "g"
   ]
  },
  {
   "cell_type": "code",
   "execution_count": 16,
   "metadata": {
    "collapsed": false
   },
   "outputs": [
    {
     "data": {
      "text/plain": [
       "maxflow! (generic function with 1 method)"
      ]
     },
     "execution_count": 16,
     "metadata": {},
     "output_type": "execute_result"
    }
   ],
   "source": [
    "# Reference\n",
    "# Algorithms Design. Tardos and Kleinberg\n",
    "# 7.1 The Maximum-Flow Problem and the Ford-Fulkerson Algorithm, pp. 338-346\n",
    "function maxflow!(g::Graph)\n",
    "    s, t = st(g)\n",
    "    while true\n",
    "        path = residualpath(g, s, t)\n",
    "        if path == nothing\n",
    "            break\n",
    "        end\n",
    "        delta = residualflow(path)\n",
    "        updateflow!(path, delta)\n",
    "    end\n",
    "    g\n",
    "end"
   ]
  },
  {
   "cell_type": "code",
   "execution_count": 17,
   "metadata": {
    "collapsed": false
   },
   "outputs": [
    {
     "data": {
      "text/plain": [
       "G(V,E) = [4,5]\n",
       "1: (1)-[20,20,0]->(2)\n",
       "2: (1)-[10,10,0]->(3)\n",
       "3: (2)-[10,10,0]->(4)\n",
       "4: (3)-[20,20,0]->(4)\n",
       "5: (2)-[10,30,0]->(3)\n"
      ]
     },
     "execution_count": 17,
     "metadata": {},
     "output_type": "execute_result"
    }
   ],
   "source": [
    "g = g4()\n",
    "maxflow!(g)\n",
    "g"
   ]
  },
  {
   "cell_type": "code",
   "execution_count": 18,
   "metadata": {
    "collapsed": false
   },
   "outputs": [
    {
     "data": {
      "text/plain": [
       "makest! (generic function with 1 method)"
      ]
     },
     "execution_count": 18,
     "metadata": {},
     "output_type": "execute_result"
    }
   ],
   "source": [
    "function makest!(g::Graph)\n",
    "    sf, tf = 0, 0\n",
    "    for v in g.vertices\n",
    "        if v.flow > 0\n",
    "            sf += v.flow\n",
    "        elseif v.flow < 0\n",
    "            tf += v.flow\n",
    "        end\n",
    "    end\n",
    "    sf != 0 || error(\"Missing Sources\")\n",
    "    tf != 0 || error(\"Missing Targets\")\n",
    "    n = order(g)\n",
    "    s = Vertex(n + 1, flow=sf)\n",
    "    t = Vertex(n + 2, flow=tf)\n",
    "    for v in g.vertices\n",
    "        if v.flow > 0\n",
    "            e = Edge(s, v, cap=v.flow)\n",
    "            push!(g.edges, e)\n",
    "        elseif v.flow < 0\n",
    "            e = Edge(v, t, cap=-v.flow)\n",
    "            push!(g.edges, e)\n",
    "        end\n",
    "        v.flow = 0\n",
    "    end\n",
    "    push!(g.vertices, s, t)\n",
    "    g\n",
    "end"
   ]
  },
  {
   "cell_type": "code",
   "execution_count": 19,
   "metadata": {
    "collapsed": false
   },
   "outputs": [
    {
     "data": {
      "text/plain": [
       "(301,302)"
      ]
     },
     "execution_count": 19,
     "metadata": {},
     "output_type": "execute_result"
    }
   ],
   "source": [
    "s6load() = netg(\"../data/stndrd6.net\")\n",
    "s6 = s6load()\n",
    "makest!(s6)\n",
    "st(s6)"
   ]
  },
  {
   "cell_type": "code",
   "execution_count": 20,
   "metadata": {
    "collapsed": false
   },
   "outputs": [
    {
     "data": {
      "text/plain": [
       "resetst! (generic function with 1 method)"
      ]
     },
     "execution_count": 20,
     "metadata": {},
     "output_type": "execute_result"
    }
   ],
   "source": [
    "function resetst!(g::Graph)\n",
    "    n = order(g) - 2\n",
    "    s = g.vertices[n + 1]\n",
    "    t = g.vertices[n + 2]\n",
    "    m = size(g) - outdegree(s) - indegree(t)\n",
    "    \n",
    "    for e in s.edgesOut\n",
    "        v = e.head\n",
    "        pop!(v.edgesIn)\n",
    "        v.flow = e.cap\n",
    "    end\n",
    "    for e in t.edgesIn\n",
    "        v = e.tail\n",
    "        pop!(v.edgesOut)\n",
    "        v.flow = -e.cap\n",
    "    end\n",
    "    \n",
    "    resize!(g.vertices, n)\n",
    "    resize!(g.edges, m)\n",
    "    g\n",
    "end"
   ]
  },
  {
   "cell_type": "code",
   "execution_count": 21,
   "metadata": {
    "collapsed": false
   },
   "outputs": [
    {
     "data": {
      "text/plain": [
       "G(V,E) = [300,3174]\n",
       "1: (1)-[0,150000,2355]->(232)\n",
       "2: (1)-[0,150000,1252]->(223)\n",
       "3: (1)-[0,150000,6180]->(212)\n",
       "4: (1)-[0,150000,9177]->(166)\n",
       "5: (1)-[0,150000,6102]->(157)\n",
       "6: (1)-[0,150000,683]->(156)\n",
       "7: (1)-[0,150000,6530]->(216)\n",
       "8: (2)-[0,150000,5734]->(176)\n",
       "9: (2)-[0,150000,5935]->(235)\n",
       "10: (2)-[0,150000,1857]->(277)\n",
       "... 3154 ...\n",
       "3165: (150)-[0,150000,7363]->(248)\n",
       "3166: (150)-[0,150000,5721]->(249)\n",
       "3167: (150)-[0,150000,5167]->(251)\n",
       "3168: (150)-[0,150000,7537]->(264)\n",
       "3169: (150)-[0,150000,8172]->(267)\n",
       "3170: (150)-[0,150000,6165]->(270)\n",
       "3171: (150)-[0,150000,8544]->(274)\n",
       "3172: (150)-[0,150000,3934]->(284)\n",
       "3173: (150)-[0,150000,7686]->(295)\n",
       "3174: (150)-[0,150000,8101]->(298)\n"
      ]
     },
     "execution_count": 21,
     "metadata": {},
     "output_type": "execute_result"
    }
   ],
   "source": [
    "resetst!(s6)\n",
    "s6"
   ]
  },
  {
   "cell_type": "code",
   "execution_count": 22,
   "metadata": {
    "collapsed": false
   },
   "outputs": [
    {
     "data": {
      "text/plain": [
       "G(V,E) = [300,3174]\n",
       "1: (1)-[0,150000,2355]->(232)\n",
       "2: (1)-[286,150000,1252]->(223)\n",
       "3: (1)-[0,150000,6180]->(212)\n",
       "4: (1)-[0,150000,9177]->(166)\n",
       "5: (1)-[0,150000,6102]->(157)\n",
       "6: (1)-[0,150000,683]->(156)\n",
       "7: (1)-[0,150000,6530]->(216)\n",
       "8: (2)-[1035,150000,5734]->(176)\n",
       "9: (2)-[1403,150000,5935]->(235)\n",
       "10: (2)-[0,150000,1857]->(277)\n",
       "... 3154 ...\n",
       "3165: (150)-[0,150000,7363]->(248)\n",
       "3166: (150)-[0,150000,5721]->(249)\n",
       "3167: (150)-[0,150000,5167]->(251)\n",
       "3168: (150)-[78,150000,7537]->(264)\n",
       "3169: (150)-[0,150000,8172]->(267)\n",
       "3170: (150)-[0,150000,6165]->(270)\n",
       "3171: (150)-[0,150000,8544]->(274)\n",
       "3172: (150)-[0,150000,3934]->(284)\n",
       "3173: (150)-[0,150000,7686]->(295)\n",
       "3174: (150)-[0,150000,8101]->(298)\n"
      ]
     },
     "execution_count": 22,
     "metadata": {},
     "output_type": "execute_result"
    }
   ],
   "source": [
    "makest!(s6)\n",
    "maxflow!(s6)\n",
    "resetst!(s6)\n",
    "s6"
   ]
  },
  {
   "cell_type": "code",
   "execution_count": 23,
   "metadata": {
    "collapsed": false
   },
   "outputs": [
    {
     "data": {
      "text/plain": [
       "issingleedge (generic function with 1 method)"
      ]
     },
     "execution_count": 23,
     "metadata": {},
     "output_type": "execute_result"
    }
   ],
   "source": [
    "function isbalanced(g::Graph)\n",
    "    sum([v.flow for v in g.vertices]) == 0\n",
    "end\n",
    "\n",
    "function hasconservation(g::Graph)\n",
    "    for v in g.vertices\n",
    "        flow(v) == 0 || return false\n",
    "    end\n",
    "    true\n",
    "end\n",
    "\n",
    "function hasnonnegativecapacity(g::Graph)\n",
    "    for e in g.edges\n",
    "        e.cap >= 0 || return false\n",
    "    end\n",
    "    true\n",
    "end\n",
    "\n",
    "function issingleedge(g::Graph)\n",
    "    for v in g.vertices\n",
    "        for e1 in v.edgesOut\n",
    "            for e2 in v.edgesOut\n",
    "                if !is(e1, e2) && is(e1.head, e2.head)\n",
    "                    return false\n",
    "                end\n",
    "            end\n",
    "        end\n",
    "    end\n",
    "    true\n",
    "end"
   ]
  },
  {
   "cell_type": "code",
   "execution_count": 24,
   "metadata": {
    "collapsed": false
   },
   "outputs": [
    {
     "data": {
      "text/plain": [
       "true"
      ]
     },
     "execution_count": 24,
     "metadata": {},
     "output_type": "execute_result"
    }
   ],
   "source": [
    "isbalanced(s6)"
   ]
  },
  {
   "cell_type": "code",
   "execution_count": 25,
   "metadata": {
    "collapsed": false
   },
   "outputs": [
    {
     "data": {
      "text/plain": [
       "true"
      ]
     },
     "execution_count": 25,
     "metadata": {},
     "output_type": "execute_result"
    }
   ],
   "source": [
    "hasconservation(s6)"
   ]
  },
  {
   "cell_type": "code",
   "execution_count": 26,
   "metadata": {
    "collapsed": false
   },
   "outputs": [
    {
     "data": {
      "text/plain": [
       "true"
      ]
     },
     "execution_count": 26,
     "metadata": {},
     "output_type": "execute_result"
    }
   ],
   "source": [
    "hasnonnegativecapacity(s6)"
   ]
  },
  {
   "cell_type": "code",
   "execution_count": 27,
   "metadata": {
    "collapsed": false
   },
   "outputs": [
    {
     "data": {
      "text/plain": [
       "true"
      ]
     },
     "execution_count": 27,
     "metadata": {},
     "output_type": "execute_result"
    }
   ],
   "source": [
    "issingleedge(s6)"
   ]
  },
  {
   "cell_type": "code",
   "execution_count": 28,
   "metadata": {
    "collapsed": false
   },
   "outputs": [
    {
     "data": {
      "text/plain": [
       "isfeasibleflow (generic function with 1 method)"
      ]
     },
     "execution_count": 28,
     "metadata": {},
     "output_type": "execute_result"
    }
   ],
   "source": [
    "function isfeasibleflow(g::Graph)\n",
    "    hasconservation(g) || return false\n",
    "    for e in g.edges\n",
    "        e.flow >= e.low && e.flow <= e.cap || return false\n",
    "    end\n",
    "    true\n",
    "end"
   ]
  },
  {
   "cell_type": "code",
   "execution_count": 29,
   "metadata": {
    "collapsed": false
   },
   "outputs": [
    {
     "data": {
      "text/plain": [
       "true"
      ]
     },
     "execution_count": 29,
     "metadata": {},
     "output_type": "execute_result"
    }
   ],
   "source": [
    "isfeasibleflow(s6)"
   ]
  },
  {
   "cell_type": "code",
   "execution_count": 30,
   "metadata": {
    "collapsed": false
   },
   "outputs": [
    {
     "data": {
      "text/plain": [
       "g6 (generic function with 1 method)"
      ]
     },
     "execution_count": 30,
     "metadata": {},
     "output_type": "execute_result"
    }
   ],
   "source": [
    "function g6()\n",
    "    a = Vertex(1)\n",
    "    b = Vertex(2)\n",
    "    c = Vertex(3)\n",
    "    d = Vertex(4)\n",
    "    e = Vertex(5)\n",
    "    t = Vertex(6)\n",
    "    vrts = Vertex[a,b,c,d,e,t]\n",
    "    \n",
    "    e1 = Edge(a, b, cost=-4)\n",
    "    e2 = Edge(a, t, cost=-3)\n",
    "    e3 = Edge(b, d, cost=-1)\n",
    "    e4 = Edge(b, e, cost=-2)\n",
    "    e5 = Edge(c, b, cost=8)\n",
    "    e6 = Edge(c, t, cost=3)\n",
    "    e7 = Edge(d, a, cost=6)\n",
    "    e8 = Edge(d, t, cost=4)\n",
    "    e9 = Edge(e, c, cost=-3)\n",
    "    e10 = Edge(e, t, cost=2)\n",
    "\n",
    "    edgs = Edge[e1,e2,e3,e4,e5,e6,e7,e8,e9,e10]\n",
    "    \n",
    "    Graph(vrts,edgs)\n",
    "end"
   ]
  },
  {
   "cell_type": "code",
   "execution_count": 31,
   "metadata": {
    "collapsed": false
   },
   "outputs": [
    {
     "data": {
      "text/plain": [
       "G(V,E) = [6,10]\n",
       "1: (1)-[0,0,-4]->(2)\n",
       "2: (1)-[0,0,-3]->(6)\n",
       "3: (2)-[0,0,-1]->(4)\n",
       "4: (2)-[0,0,-2]->(5)\n",
       "5: (3)-[0,0,8]->(2)\n",
       "6: (3)-[0,0,3]->(6)\n",
       "7: (4)-[0,0,6]->(1)\n",
       "8: (4)-[0,0,4]->(6)\n",
       "9: (5)-[0,0,-3]->(3)\n",
       "10: (5)-[0,0,2]->(6)\n"
      ]
     },
     "execution_count": 31,
     "metadata": {},
     "output_type": "execute_result"
    }
   ],
   "source": [
    "g = g6()"
   ]
  },
  {
   "cell_type": "code",
   "execution_count": 32,
   "metadata": {
    "collapsed": false
   },
   "outputs": [
    {
     "data": {
      "text/plain": [
       "shortestpath (generic function with 1 method)"
      ]
     },
     "execution_count": 32,
     "metadata": {},
     "output_type": "execute_result"
    }
   ],
   "source": [
    "function shortestpath(g::Graph, s::Vertex, t::Vertex)\n",
    "    n = order(g)\n",
    "    m = Array(Float32, n, n)\n",
    "    m[1,:] = Inf32\n",
    "    m[1,t.id] = 0.\n",
    "    for i=2:n\n",
    "        for v in g.vertices\n",
    "            m[i,v.id] = if isempty(v.edgesOut)\n",
    "                m[i-1,v.id]\n",
    "            else\n",
    "                w = Float32[m[i - 1, e.head.id] + e.cost for e in v.edgesOut]\n",
    "                min(m[i-1,v.id],w...)\n",
    "            end\n",
    "        end\n",
    "    end\n",
    "    m\n",
    "end"
   ]
  },
  {
   "cell_type": "code",
   "execution_count": 33,
   "metadata": {
    "collapsed": false
   },
   "outputs": [
    {
     "data": {
      "text/plain": [
       "6x6 Array{Float32,2}:\n",
       " Inf     -3.0  -3.0  -4.0  -6.0  -6.0\n",
       " Inf    Inf     0.0  -2.0  -2.0  -2.0\n",
       " Inf      3.0   3.0   3.0   3.0   3.0\n",
       " Inf      4.0   3.0   3.0   2.0   0.0\n",
       " Inf      2.0   0.0   0.0   0.0   0.0\n",
       "   0.0    0.0   0.0   0.0   0.0   0.0"
      ]
     },
     "execution_count": 33,
     "metadata": {},
     "output_type": "execute_result"
    }
   ],
   "source": [
    "d = g.vertices[4]\n",
    "t = g.vertices[6]\n",
    "shortestpath(g,d,t)'"
   ]
  },
  {
   "cell_type": "code",
   "execution_count": 34,
   "metadata": {
    "collapsed": false
   },
   "outputs": [
    {
     "data": {
      "text/plain": [
       "shortestpath (generic function with 1 method)"
      ]
     },
     "execution_count": 34,
     "metadata": {},
     "output_type": "execute_result"
    }
   ],
   "source": [
    "function shortestpath(g::Graph, s::Vertex, t::Vertex)\n",
    "    n = order(g)\n",
    "    m = fill(Inf32, n)\n",
    "    m[t.id] = 0.\n",
    "    for i=2:n\n",
    "        for v in g.vertices\n",
    "            !isempty(v.edgesOut) || continue\n",
    "            w = Float32[m[e.head.id] + e.cost for e in v.edgesOut]\n",
    "            m[v.id] = min(m[v.id],w...)\n",
    "        end\n",
    "    end\n",
    "    m\n",
    "end"
   ]
  },
  {
   "cell_type": "code",
   "execution_count": 35,
   "metadata": {
    "collapsed": false
   },
   "outputs": [
    {
     "data": {
      "text/plain": [
       "6-element Array{Float32,1}:\n",
       " -6.0\n",
       " -2.0\n",
       "  3.0\n",
       "  0.0\n",
       "  0.0\n",
       "  0.0"
      ]
     },
     "execution_count": 35,
     "metadata": {},
     "output_type": "execute_result"
    }
   ],
   "source": [
    "d = g.vertices[4]\n",
    "t = g.vertices[6]\n",
    "shortestpath(g,d,t)"
   ]
  },
  {
   "cell_type": "code",
   "execution_count": 36,
   "metadata": {
    "collapsed": false
   },
   "outputs": [
    {
     "data": {
      "text/plain": [
       "shortestpath (generic function with 1 method)"
      ]
     },
     "execution_count": 36,
     "metadata": {},
     "output_type": "execute_result"
    }
   ],
   "source": [
    "function shortestpath(g::Graph, s::Vertex, t::Vertex)\n",
    "    n = order(g)\n",
    "    m = fill(Inf, n)\n",
    "    m[t.id] = 0.\n",
    "    p = Array(Edge, n)\n",
    "    p[t.id] = Edge(t,Vertex(0),0,0,0,0)\n",
    "    for i=2:n\n",
    "        for v in g.vertices\n",
    "            !isempty(v.edgesOut) || continue\n",
    "            mmin = m[v.id]\n",
    "            k = nothing #Edge\n",
    "            for e in v.edgesOut\n",
    "                mk = m[e.head.id] + e.cost\n",
    "                if mk < mmin\n",
    "                    mmin = mk\n",
    "                    k = e\n",
    "                end\n",
    "            end\n",
    "            if k != nothing\n",
    "                p[v.id] = k\n",
    "                m[v.id] = mmin\n",
    "            end\n",
    "        end\n",
    "    end\n",
    "    \n",
    "    r, i = Array(Edge, n), 0\n",
    "    e = p[s.id]\n",
    "    while e.head.id != 0\n",
    "        r[i += 1] = e\n",
    "        e = p[e.head.id]\n",
    "    end\n",
    "    resize!(r, i)\n",
    "    r, round(Int, m[s.id])\n",
    "end"
   ]
  },
  {
   "cell_type": "code",
   "execution_count": 37,
   "metadata": {
    "collapsed": false
   },
   "outputs": [
    {
     "data": {
      "text/plain": [
       "([(1)-[0,0,-4]->(2),(2)-[0,0,-2]->(5),(5)-[0,0,-3]->(3),(3)-[0,0,3]->(6)],-6)"
      ]
     },
     "execution_count": 37,
     "metadata": {},
     "output_type": "execute_result"
    }
   ],
   "source": [
    "d = g.vertices[1]\n",
    "t = g.vertices[6]\n",
    "shortestpath(g,d,t)"
   ]
  },
  {
   "cell_type": "code",
   "execution_count": 38,
   "metadata": {
    "collapsed": false
   },
   "outputs": [
    {
     "data": {
      "text/plain": [
       "([(2)-[0,0,-2]->(5),(5)-[0,0,-3]->(3)],-5)"
      ]
     },
     "execution_count": 38,
     "metadata": {},
     "output_type": "execute_result"
    }
   ],
   "source": [
    "b = g.vertices[2]\n",
    "c = g.vertices[3]\n",
    "shortestpath(g,b,c)"
   ]
  },
  {
   "cell_type": "code",
   "execution_count": 39,
   "metadata": {
    "collapsed": false
   },
   "outputs": [
    {
     "data": {
      "text/plain": [
       "g4neg (generic function with 1 method)"
      ]
     },
     "execution_count": 39,
     "metadata": {},
     "output_type": "execute_result"
    }
   ],
   "source": [
    "function g4neg()\n",
    "    v1 = Vertex(1, flow=4)\n",
    "    v2 = Vertex(2)\n",
    "    v3 = Vertex(3)\n",
    "    v4 = Vertex(4, flow=-4)\n",
    "    vrts = Vertex[v1, v2, v3, v4]\n",
    "    \n",
    "    e1 = Edge(v1, v2, cost=2,cap=4)\n",
    "    e2 = Edge(v1, v3, cost=2,cap=2)\n",
    "    e3 = Edge(v2, v3, cost=1,cap=2)\n",
    "    e4 = Edge(v2, v4, cost=3,cap=3)\n",
    "    e5 = Edge(v3, v4, cost=1,cap=5)\n",
    "    edgs = Edge[e1, e2, e3, e4, e5]\n",
    "    \n",
    "    Graph(vrts, edgs)\n",
    "end"
   ]
  },
  {
   "cell_type": "code",
   "execution_count": 40,
   "metadata": {
    "collapsed": false
   },
   "outputs": [
    {
     "data": {
      "text/plain": [
       "G(V,E) = [4,5]\n",
       "1: (1)-[0,4,2]->(2)\n",
       "2: (1)-[0,2,2]->(3)\n",
       "3: (2)-[0,2,1]->(3)\n",
       "4: (2)-[0,3,3]->(4)\n",
       "5: (3)-[0,5,1]->(4)\n"
      ]
     },
     "execution_count": 40,
     "metadata": {},
     "output_type": "execute_result"
    }
   ],
   "source": [
    "g = g4neg()"
   ]
  },
  {
   "cell_type": "code",
   "execution_count": 41,
   "metadata": {
    "collapsed": false
   },
   "outputs": [
    {
     "data": {
      "text/plain": [
       "G(V,E) = [4,5]\n",
       "1: (1)-[3,4,2]->(2)\n",
       "2: (1)-[1,2,2]->(3)\n",
       "3: (2)-[0,2,1]->(3)\n",
       "4: (2)-[3,3,3]->(4)\n",
       "5: (3)-[1,5,1]->(4)\n"
      ]
     },
     "execution_count": 41,
     "metadata": {},
     "output_type": "execute_result"
    }
   ],
   "source": [
    "maxflow!(g)"
   ]
  },
  {
   "cell_type": "code",
   "execution_count": 42,
   "metadata": {
    "collapsed": false
   },
   "outputs": [
    {
     "data": {
      "text/plain": [
       "true"
      ]
     },
     "execution_count": 42,
     "metadata": {},
     "output_type": "execute_result"
    }
   ],
   "source": [
    "isfeasibleflow(g)"
   ]
  },
  {
   "cell_type": "code",
   "execution_count": 43,
   "metadata": {
    "collapsed": false
   },
   "outputs": [
    {
     "data": {
      "text/plain": [
       "cycle (generic function with 1 method)"
      ]
     },
     "execution_count": 43,
     "metadata": {},
     "output_type": "execute_result"
    }
   ],
   "source": [
    "function findcycle(p::Array{Edge,1}, i::Int)\n",
    "    mark = falses(length(p))\n",
    "    j = i\n",
    "    while j != 0 && !mark[j]\n",
    "        mark[j] = true\n",
    "        j = p[j].head.id\n",
    "    end\n",
    "    j\n",
    "end\n",
    "\n",
    "function cycle(p::Array{Edge,1}, i::Int)\n",
    "    r = Array(Edge, length(p))\n",
    "    n = 0\n",
    "    j = i\n",
    "    while n == 0 || i != j\n",
    "        r[n += 1] = p[j]\n",
    "        j = p[j].head.id\n",
    "    end\n",
    "    resize!(r, n)\n",
    "    r\n",
    "end"
   ]
  },
  {
   "cell_type": "code",
   "execution_count": 44,
   "metadata": {
    "collapsed": false
   },
   "outputs": [
    {
     "data": {
      "text/plain": [
       "pcycle (generic function with 1 method)"
      ]
     },
     "execution_count": 44,
     "metadata": {},
     "output_type": "execute_result"
    }
   ],
   "source": [
    "function pcycle()\n",
    "    v1 = Vertex(1)\n",
    "    v2 = Vertex(2)\n",
    "    v3 = Vertex(3)\n",
    "    v4 = Vertex(4)\n",
    "    e1 = Edge(v1, v2)\n",
    "    e2 = Edge(v2, v3)\n",
    "    e3 = Edge(v3, v2)\n",
    "    e4 = Edge(v3, v4)\n",
    "    Edge[e1,e2,e3,e4]\n",
    "end"
   ]
  },
  {
   "cell_type": "code",
   "execution_count": 45,
   "metadata": {
    "collapsed": false
   },
   "outputs": [
    {
     "data": {
      "text/plain": [
       "4-element Array{Edge,1}:\n",
       " (1)-[0,0,0]->(2)\n",
       " (2)-[0,0,0]->(3)\n",
       " (3)-[0,0,0]->(2)\n",
       " (3)-[0,0,0]->(4)"
      ]
     },
     "execution_count": 45,
     "metadata": {},
     "output_type": "execute_result"
    }
   ],
   "source": [
    "pc = pcycle()"
   ]
  },
  {
   "cell_type": "code",
   "execution_count": 46,
   "metadata": {
    "collapsed": false
   },
   "outputs": [
    {
     "data": {
      "text/plain": [
       "2-element Array{Edge,1}:\n",
       " (2)-[0,0,0]->(3)\n",
       " (3)-[0,0,0]->(2)"
      ]
     },
     "execution_count": 46,
     "metadata": {},
     "output_type": "execute_result"
    }
   ],
   "source": [
    "cycle(pc, 2)"
   ]
  },
  {
   "cell_type": "code",
   "execution_count": 47,
   "metadata": {
    "collapsed": false
   },
   "outputs": [
    {
     "data": {
      "text/plain": [
       "2-element Array{Edge,1}:\n",
       " (3)-[0,0,0]->(2)\n",
       " (2)-[0,0,0]->(3)"
      ]
     },
     "execution_count": 47,
     "metadata": {},
     "output_type": "execute_result"
    }
   ],
   "source": [
    "cycle(pc, 3)"
   ]
  },
  {
   "cell_type": "code",
   "execution_count": 48,
   "metadata": {
    "collapsed": false
   },
   "outputs": [
    {
     "data": {
      "text/plain": [
       "2"
      ]
     },
     "execution_count": 48,
     "metadata": {},
     "output_type": "execute_result"
    }
   ],
   "source": [
    "findcycle(pc, 1)"
   ]
  },
  {
   "cell_type": "code",
   "execution_count": 49,
   "metadata": {
    "collapsed": false
   },
   "outputs": [
    {
     "data": {
      "text/plain": [
       "negativecycle (generic function with 1 method)"
      ]
     },
     "execution_count": 49,
     "metadata": {},
     "output_type": "execute_result"
    }
   ],
   "source": [
    "function negativecycle(g::Graph, s::Vertex, t::Vertex)\n",
    "    n = order(g)\n",
    "    m = fill(Inf, n)\n",
    "    m[t.id] = 0.\n",
    "    p = Array(Edge, n)\n",
    "    p[t.id] = Edge(t,Vertex(0),0,0,0,0)\n",
    "    for _=2:n\n",
    "        for v in g.vertices\n",
    "            !isempty(v.edgesOut) || continue\n",
    "            mmin = m[v.id]\n",
    "            k = nothing #Edge\n",
    "            for e in v.edgesOut\n",
    "                mk = m[e.head.id] + e.cost\n",
    "                if mk < mmin\n",
    "                    mmin = mk\n",
    "                    k = e\n",
    "                end\n",
    "            end\n",
    "            if k != nothing\n",
    "                p[v.id] = k\n",
    "                m[v.id] = mmin\n",
    "                \n",
    "                i = findcycle(p, v.id)\n",
    "                i == 0 || return cycle(p, i)\n",
    "            end\n",
    "        end\n",
    "    end\n",
    "    nothing\n",
    "end"
   ]
  },
  {
   "cell_type": "code",
   "execution_count": 50,
   "metadata": {
    "collapsed": false
   },
   "outputs": [
    {
     "data": {
      "text/plain": [
       "g4negt (generic function with 1 method)"
      ]
     },
     "execution_count": 50,
     "metadata": {},
     "output_type": "execute_result"
    }
   ],
   "source": [
    "function g4negt()\n",
    "    v1 = Vertex(1)\n",
    "    v2 = Vertex(2)\n",
    "    v3 = Vertex(3)\n",
    "    v4 = Vertex(4)\n",
    "    V = Vertex[v1,v2,v3,v4]\n",
    "    e1 = Edge(v1, v2, cost=1)\n",
    "    e2 = Edge(v2, v3, cost=2)\n",
    "    e3 = Edge(v3, v2, cost=-3)\n",
    "    e4 = Edge(v3, v4, cost=3)\n",
    "    E = Edge[e1,e2,e3,e4]\n",
    "    Graph(V, E)\n",
    "end"
   ]
  },
  {
   "cell_type": "code",
   "execution_count": 51,
   "metadata": {
    "collapsed": false
   },
   "outputs": [
    {
     "data": {
      "text/plain": [
       "G(V,E) = [4,4]\n",
       "1: (1)-[0,0,1]->(2)\n",
       "2: (2)-[0,0,2]->(3)\n",
       "3: (3)-[0,0,-3]->(2)\n",
       "4: (3)-[0,0,3]->(4)\n"
      ]
     },
     "execution_count": 51,
     "metadata": {},
     "output_type": "execute_result"
    }
   ],
   "source": [
    "g = g4negt()"
   ]
  },
  {
   "cell_type": "code",
   "execution_count": 52,
   "metadata": {
    "collapsed": false
   },
   "outputs": [
    {
     "data": {
      "text/plain": [
       "2-element Array{Edge,1}:\n",
       " (3)-[0,0,-3]->(2)\n",
       " (2)-[0,0,2]->(3) "
      ]
     },
     "execution_count": 52,
     "metadata": {},
     "output_type": "execute_result"
    }
   ],
   "source": [
    "s = g.vertices[1]\n",
    "t = g.vertices[4]\n",
    "negativecycle(g, s, t)"
   ]
  },
  {
   "cell_type": "code",
   "execution_count": 53,
   "metadata": {
    "collapsed": false
   },
   "outputs": [
    {
     "data": {
      "text/plain": [
       "cycle (generic function with 2 methods)"
      ]
     },
     "execution_count": 53,
     "metadata": {},
     "output_type": "execute_result"
    }
   ],
   "source": [
    "# Reference\n",
    "# Algorithms Design. Tardos and Kleinberg\n",
    "# 6.8 Shortest Paths in a Graph, pp. 290-297\n",
    "# (Bellman-Ford algorithm)\n",
    "function negativecycle(g::Graph)\n",
    "    n = order(g)\n",
    "    \n",
    "    m = fill(Inf, n)\n",
    "    p = Array(PathNode, n)\n",
    "    for v in g.vertices\n",
    "        v.flow < 0 || continue\n",
    "        m[v.id] = 0.\n",
    "        p[v.id] = PathNode(Edge(v,Vertex(0),0,0,0,0))\n",
    "    end\n",
    "    \n",
    "    mark = Array(Bool,n)\n",
    "    _findcycle(p::Array{PathNode,1}, i::Int) = findcycle(mark,p,i)\n",
    "    \n",
    "    for _=2:n\n",
    "        for v in g.vertices\n",
    "            mmin = m[v.id]\n",
    "            k = nothing #Edge\n",
    "            reverse = false\n",
    "            for e in v.edgesOut\n",
    "                e.flow < e.cap || continue\n",
    "                mk = m[e.head.id] + e.cost\n",
    "                if mk < mmin\n",
    "                    mmin = mk\n",
    "                    k = e\n",
    "                end\n",
    "            end\n",
    "            for e in v.edgesIn\n",
    "                e.flow > 0 || continue\n",
    "                mk = m[e.tail.id] - e.cost\n",
    "                if mk < mmin\n",
    "                    mmin = mk\n",
    "                    k = e\n",
    "                    reverse = true\n",
    "                end\n",
    "            end\n",
    "            if k != nothing\n",
    "                p[v.id] = PathNode(k,reverse)\n",
    "                m[v.id] = mmin\n",
    "                \n",
    "                i = _findcycle(p, v.id)\n",
    "                i == 0 || return cycle(p, i)\n",
    "            end\n",
    "        end\n",
    "    end\n",
    "    nothing\n",
    "end\n",
    "\n",
    "function findcycle(mark::Array{Bool,1}, p::Array{PathNode,1}, i::Int)\n",
    "    mark[:] = false\n",
    "    j = i\n",
    "    while j != 0 && !mark[j]\n",
    "        mark[j] = true\n",
    "        j = head(p[j]).id\n",
    "    end\n",
    "    j\n",
    "end\n",
    "\n",
    "function cycle(p::Array{PathNode,1}, i::Int)\n",
    "    r = Array(PathNode, length(p))\n",
    "    n = 0\n",
    "    j = i\n",
    "    while n == 0 || i != j\n",
    "        r[n += 1] = p[j]\n",
    "        j = head(p[j]).id\n",
    "    end\n",
    "    resize!(r, n)\n",
    "    r\n",
    "end"
   ]
  },
  {
   "cell_type": "code",
   "execution_count": 54,
   "metadata": {
    "collapsed": false
   },
   "outputs": [
    {
     "data": {
      "text/plain": [
       "true"
      ]
     },
     "execution_count": 54,
     "metadata": {},
     "output_type": "execute_result"
    }
   ],
   "source": [
    "g = g4neg()\n",
    "maxflow!(g)\n",
    "isfeasibleflow(g)"
   ]
  },
  {
   "cell_type": "code",
   "execution_count": 55,
   "metadata": {
    "collapsed": false
   },
   "outputs": [
    {
     "data": {
      "text/plain": [
       "4-element Array{PathNode,1}:\n",
       " (4)-[0,3,-3]->(2), reverse=true\n",
       " (2)-[1,4,-2]->(1), reverse=true\n",
       " (1)-[1,2,2]->(3), reverse=false\n",
       " (3)-[1,5,1]->(4), reverse=false"
      ]
     },
     "execution_count": 55,
     "metadata": {},
     "output_type": "execute_result"
    }
   ],
   "source": [
    "c = negativecycle(g)"
   ]
  },
  {
   "cell_type": "code",
   "execution_count": 56,
   "metadata": {
    "collapsed": false
   },
   "outputs": [
    {
     "data": {
      "text/plain": [
       "1"
      ]
     },
     "execution_count": 56,
     "metadata": {},
     "output_type": "execute_result"
    }
   ],
   "source": [
    "d = availableflow(c)"
   ]
  },
  {
   "cell_type": "code",
   "execution_count": 57,
   "metadata": {
    "collapsed": false
   },
   "outputs": [
    {
     "data": {
      "text/plain": [
       "4-element Array{PathNode,1}:\n",
       " (4)-[1,3,-3]->(2), reverse=true\n",
       " (2)-[2,4,-2]->(1), reverse=true\n",
       " (1)-[2,2,2]->(3), reverse=false\n",
       " (3)-[2,5,1]->(4), reverse=false"
      ]
     },
     "execution_count": 57,
     "metadata": {},
     "output_type": "execute_result"
    }
   ],
   "source": [
    "updateflow!(c, d)\n",
    "c"
   ]
  },
  {
   "cell_type": "code",
   "execution_count": 58,
   "metadata": {
    "collapsed": false
   },
   "outputs": [
    {
     "data": {
      "text/plain": [
       "G(V,E) = [4,5]\n",
       "1: (1)-[2,4,2]->(2)\n",
       "2: (1)-[2,2,2]->(3)\n",
       "3: (2)-[0,2,1]->(3)\n",
       "4: (2)-[2,3,3]->(4)\n",
       "5: (3)-[2,5,1]->(4)\n"
      ]
     },
     "execution_count": 58,
     "metadata": {},
     "output_type": "execute_result"
    }
   ],
   "source": [
    "g"
   ]
  },
  {
   "cell_type": "code",
   "execution_count": 59,
   "metadata": {
    "collapsed": false
   },
   "outputs": [
    {
     "data": {
      "text/plain": [
       "true"
      ]
     },
     "execution_count": 59,
     "metadata": {},
     "output_type": "execute_result"
    }
   ],
   "source": [
    "isfeasibleflow(g)"
   ]
  },
  {
   "cell_type": "code",
   "execution_count": 60,
   "metadata": {
    "collapsed": false
   },
   "outputs": [
    {
     "data": {
      "text/plain": [
       "3-element Array{PathNode,1}:\n",
       " (4)-[1,3,-3]->(2), reverse=true\n",
       " (2)-[0,2,1]->(3), reverse=false\n",
       " (3)-[2,5,1]->(4), reverse=false"
      ]
     },
     "execution_count": 60,
     "metadata": {},
     "output_type": "execute_result"
    }
   ],
   "source": [
    "c = negativecycle(g)"
   ]
  },
  {
   "cell_type": "code",
   "execution_count": 61,
   "metadata": {
    "collapsed": false
   },
   "outputs": [
    {
     "data": {
      "text/plain": [
       "2"
      ]
     },
     "execution_count": 61,
     "metadata": {},
     "output_type": "execute_result"
    }
   ],
   "source": [
    "d = availableflow(c)"
   ]
  },
  {
   "cell_type": "code",
   "execution_count": 62,
   "metadata": {
    "collapsed": false
   },
   "outputs": [
    {
     "data": {
      "text/plain": [
       "G(V,E) = [4,5]\n",
       "1: (1)-[2,4,2]->(2)\n",
       "2: (1)-[2,2,2]->(3)\n",
       "3: (2)-[2,2,1]->(3)\n",
       "4: (2)-[0,3,3]->(4)\n",
       "5: (3)-[4,5,1]->(4)\n"
      ]
     },
     "execution_count": 62,
     "metadata": {},
     "output_type": "execute_result"
    }
   ],
   "source": [
    "updateflow!(c, d)\n",
    "g"
   ]
  },
  {
   "cell_type": "code",
   "execution_count": 63,
   "metadata": {
    "collapsed": false
   },
   "outputs": [
    {
     "data": {
      "text/plain": [
       "true"
      ]
     },
     "execution_count": 63,
     "metadata": {},
     "output_type": "execute_result"
    }
   ],
   "source": [
    "isfeasibleflow(g)"
   ]
  },
  {
   "cell_type": "code",
   "execution_count": 64,
   "metadata": {
    "collapsed": false
   },
   "outputs": [
    {
     "data": {
      "text/plain": [
       "true"
      ]
     },
     "execution_count": 64,
     "metadata": {},
     "output_type": "execute_result"
    }
   ],
   "source": [
    "negativecycle(g) == nothing"
   ]
  },
  {
   "cell_type": "code",
   "execution_count": 65,
   "metadata": {
    "collapsed": false
   },
   "outputs": [
    {
     "data": {
      "text/plain": [
       "cost (generic function with 2 methods)"
      ]
     },
     "execution_count": 65,
     "metadata": {},
     "output_type": "execute_result"
    }
   ],
   "source": [
    "cost(g::Graph) =  sum([e.flow * e.cost for e in g.edges])"
   ]
  },
  {
   "cell_type": "code",
   "execution_count": 66,
   "metadata": {
    "collapsed": false
   },
   "outputs": [
    {
     "data": {
      "text/plain": [
       "14"
      ]
     },
     "execution_count": 66,
     "metadata": {},
     "output_type": "execute_result"
    }
   ],
   "source": [
    "cost(g)"
   ]
  },
  {
   "cell_type": "code",
   "execution_count": 67,
   "metadata": {
    "collapsed": false
   },
   "outputs": [
    {
     "data": {
      "text/plain": [
       "G(V,E) = [4,5]\n",
       "1: (1)-[3,4,2]->(2)\n",
       "2: (1)-[1,2,2]->(3)\n",
       "3: (2)-[0,2,1]->(3)\n",
       "4: (2)-[3,3,3]->(4)\n",
       "5: (3)-[1,5,1]->(4)\n"
      ]
     },
     "execution_count": 67,
     "metadata": {},
     "output_type": "execute_result"
    }
   ],
   "source": [
    "for e in g.edges\n",
    "    e.flow = 0\n",
    "end\n",
    "maxflow!(g)"
   ]
  },
  {
   "cell_type": "code",
   "execution_count": 68,
   "metadata": {
    "collapsed": false
   },
   "outputs": [
    {
     "data": {
      "text/plain": [
       "18"
      ]
     },
     "execution_count": 68,
     "metadata": {},
     "output_type": "execute_result"
    }
   ],
   "source": [
    "cost(g)"
   ]
  },
  {
   "cell_type": "code",
   "execution_count": 69,
   "metadata": {
    "collapsed": false
   },
   "outputs": [
    {
     "data": {
      "text/plain": [
       "mincost_cyclecanceling! (generic function with 1 method)"
      ]
     },
     "execution_count": 69,
     "metadata": {},
     "output_type": "execute_result"
    }
   ],
   "source": [
    "# Reference\n",
    "# Network Flows. Ahuja, Magnanti and Orlin\n",
    "# 9.6 Cycle-Canceling algorithm and the integrality property, pp. 317-320\n",
    "function mincost_cyclecanceling!(g::Graph)\n",
    "    isfeasibleflow(g) || error(\"missing flow\")\n",
    "    while true\n",
    "        cycle = negativecycle(g)\n",
    "        if cycle == nothing\n",
    "            break\n",
    "        end\n",
    "        delta = availableflow(cycle)\n",
    "        updateflow!(cycle, delta)\n",
    "    end\n",
    "    g\n",
    "end "
   ]
  },
  {
   "cell_type": "code",
   "execution_count": 70,
   "metadata": {
    "collapsed": false
   },
   "outputs": [
    {
     "data": {
      "text/plain": [
       "G(V,E) = [4,5]\n",
       "1: (1)-[2,4,2]->(2)\n",
       "2: (1)-[2,2,2]->(3)\n",
       "3: (2)-[2,2,1]->(3)\n",
       "4: (2)-[0,3,3]->(4)\n",
       "5: (3)-[4,5,1]->(4)\n"
      ]
     },
     "execution_count": 70,
     "metadata": {},
     "output_type": "execute_result"
    }
   ],
   "source": [
    "g = g4neg()\n",
    "maxflow!(g)\n",
    "mincost_cyclecanceling!(g)"
   ]
  },
  {
   "cell_type": "code",
   "execution_count": 71,
   "metadata": {
    "collapsed": false
   },
   "outputs": [
    {
     "data": {
      "text/plain": [
       "true"
      ]
     },
     "execution_count": 71,
     "metadata": {},
     "output_type": "execute_result"
    }
   ],
   "source": [
    "isfeasibleflow(g)"
   ]
  },
  {
   "cell_type": "code",
   "execution_count": 72,
   "metadata": {
    "collapsed": false
   },
   "outputs": [
    {
     "data": {
      "text/plain": [
       "14"
      ]
     },
     "execution_count": 72,
     "metadata": {},
     "output_type": "execute_result"
    }
   ],
   "source": [
    "cost(g)"
   ]
  },
  {
   "cell_type": "code",
   "execution_count": 73,
   "metadata": {
    "collapsed": false
   },
   "outputs": [
    {
     "data": {
      "text/plain": [
       "711413602"
      ]
     },
     "execution_count": 73,
     "metadata": {},
     "output_type": "execute_result"
    }
   ],
   "source": [
    "s6 = s6load()\n",
    "makest!(s6)\n",
    "maxflow!(s6)\n",
    "resetst!(s6)\n",
    "isfeasibleflow(s6) || error(\"WAT!?\")\n",
    "cost(s6)"
   ]
  },
  {
   "cell_type": "code",
   "execution_count": 74,
   "metadata": {
    "collapsed": false
   },
   "outputs": [
    {
     "data": {
      "text/plain": [
       "191968577"
      ]
     },
     "execution_count": 74,
     "metadata": {},
     "output_type": "execute_result"
    }
   ],
   "source": [
    "mincost_cyclecanceling!(s6)\n",
    "isfeasibleflow(s6) || error(\"WAT!?\")\n",
    "cost(s6)"
   ]
  }
 ],
 "metadata": {
  "kernelspec": {
   "display_name": "Julia 0.4.0",
   "language": "julia",
   "name": "julia-0.4"
  },
  "language_info": {
   "file_extension": ".jl",
   "mimetype": "application/julia",
   "name": "julia",
   "version": "0.4.0"
  }
 },
 "nbformat": 4,
 "nbformat_minor": 0
}
