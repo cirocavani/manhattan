{
 "cells": [
  {
   "cell_type": "code",
   "execution_count": 1,
   "metadata": {
    "collapsed": false
   },
   "outputs": [],
   "source": [
    "require(\"../src/graph.jl\", \"../src/netg.jl\", \"../src/check.jl\", \"../src/util.jl\")"
   ]
  },
  {
   "cell_type": "code",
   "execution_count": 2,
   "metadata": {
    "collapsed": false
   },
   "outputs": [
    {
     "data": {
      "text/plain": [
       "g4ssp (generic function with 1 method)"
      ]
     },
     "execution_count": 2,
     "metadata": {},
     "output_type": "execute_result"
    }
   ],
   "source": [
    "function g4ssp()\n",
    "    v1 = Vertex(1, flow=4)\n",
    "    v2 = Vertex(2)\n",
    "    v3 = Vertex(3)\n",
    "    v4 = Vertex(4, flow=-4)\n",
    "    V = Vertex[v1,v2,v3,v4]\n",
    "    \n",
    "    e1 = Edge(v1, v2, flow=2, cap=4)\n",
    "    e2 = Edge(v1, v3, flow=2, cap=2)\n",
    "    e3 = Edge(v2, v3, flow=1, cap=2)\n",
    "    e4 = Edge(v2, v4, flow=3, cap=3)\n",
    "    e5 = Edge(v3, v4, flow=1, cap=5)\n",
    "    E = Edge[e1,e2,e3,e4,e5]\n",
    "    \n",
    "    Graph(V, E)\n",
    "end"
   ]
  },
  {
   "cell_type": "code",
   "execution_count": 3,
   "metadata": {
    "collapsed": false
   },
   "outputs": [
    {
     "data": {
      "text/plain": [
       "G(V,E) = [4,5]\n",
       "1: (1)-[2,4,0]->(2)\n",
       "2: (1)-[2,2,0]->(3)\n",
       "3: (2)-[1,2,0]->(3)\n",
       "4: (2)-[3,3,0]->(4)\n",
       "5: (3)-[1,5,0]->(4)\n"
      ]
     },
     "execution_count": 3,
     "metadata": {},
     "output_type": "execute_result"
    }
   ],
   "source": [
    "g = g4ssp()\n",
    "g"
   ]
  },
  {
   "cell_type": "code",
   "execution_count": 4,
   "metadata": {
    "collapsed": false
   },
   "outputs": [
    {
     "data": {
      "text/plain": [
       "false"
      ]
     },
     "execution_count": 4,
     "metadata": {},
     "output_type": "execute_result"
    }
   ],
   "source": [
    "isfeasibleflow(g)"
   ]
  }
 ],
 "metadata": {
  "kernelspec": {
   "display_name": "Julia 0.3.5",
   "language": "julia",
   "name": "julia 0.3"
  },
  "language_info": {
   "name": "julia",
   "version": "0.3.7"
  }
 },
 "nbformat": 4,
 "nbformat_minor": 0
}
